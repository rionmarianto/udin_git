{
 "cells": [
  {
   "cell_type": "code",
   "execution_count": 1,
   "metadata": {},
   "outputs": [
    {
     "name": "stdout",
     "output_type": "stream",
     "text": [
      "Akhmad Lagi belajar\n"
     ]
    }
   ],
   "source": [
    "print('Akhmad Lagi belajar')"
   ]
  },
  {
   "cell_type": "code",
   "execution_count": 8,
   "metadata": {},
   "outputs": [
    {
     "name": "stdout",
     "output_type": "stream",
     "text": [
      "10\n",
      "<class 'int'>\n",
      "<class 'float'>\n",
      "<class 'str'>\n",
      "<class 'str'>\n",
      "<class 'str'>\n"
     ]
    }
   ],
   "source": [
    "print(10)\n",
    "print(type(10))\n",
    "print(type(10.0))\n",
    "print(type('andik'))\n",
    "print(type(\"'10'\"))\n",
    "print(type(\"10\"))"
   ]
  },
  {
   "cell_type": "code",
   "execution_count": 18,
   "metadata": {},
   "outputs": [
    {
     "name": "stdout",
     "output_type": "stream",
     "text": [
      "\"10\"\n",
      "\"10\"\n"
     ]
    }
   ],
   "source": [
    "print(\"\\\"10\\\"\")\n",
    "print('\"10\"')"
   ]
  },
  {
   "cell_type": "code",
   "execution_count": 58,
   "metadata": {},
   "outputs": [
    {
     "name": "stdout",
     "output_type": "stream",
     "text": [
      "sardiddddddddddddddddddddddddddddddddddddddddddd    ddddddddddddddddddddddddddddddddddddddddddddddddddddddddddddddddddddddddd\n"
     ]
    }
   ],
   "source": [
    "print('sardiddddddddddddddddddddddddddddddddddddddddddd\\\n",
    "    ddddddddddddddddddddddddddddddddddddddddddddddddddddddddddddddddddddddddd')"
   ]
  },
  {
   "cell_type": "code",
   "execution_count": 59,
   "metadata": {},
   "outputs": [
    {
     "name": "stdout",
     "output_type": "stream",
     "text": [
      "sardi\n",
      "irfansyah\n"
     ]
    }
   ],
   "source": [
    "print('sardi\\nirfansyah')"
   ]
  },
  {
   "cell_type": "code",
   "execution_count": 54,
   "metadata": {},
   "outputs": [
    {
     "name": "stdout",
     "output_type": "stream",
     "text": [
      "sardi \n",
      "irfansyah\n"
     ]
    }
   ],
   "source": [
    "print('''sardi \n",
    "irfansyah''')"
   ]
  },
  {
   "cell_type": "code",
   "execution_count": 20,
   "metadata": {},
   "outputs": [
    {
     "name": "stdout",
     "output_type": "stream",
     "text": [
      "0.2\n",
      "2.0\n"
     ]
    }
   ],
   "source": [
    "print(.2)\n",
    "print(2.)"
   ]
  },
  {
   "cell_type": "code",
   "execution_count": 32,
   "metadata": {},
   "outputs": [
    {
     "name": "stdout",
     "output_type": "stream",
     "text": [
      "True\n",
      "False\n",
      "False\n",
      "False\n",
      "False\n",
      "True\n"
     ]
    }
   ],
   "source": [
    "print(bool(10))\n",
    "print(bool(0))\n",
    "print(bool())\n",
    "print(bool(None))\n",
    "print(bool(''))\n",
    "print(bool('d'))"
   ]
  },
  {
   "attachments": {},
   "cell_type": "markdown",
   "metadata": {},
   "source": [
    "# 1. Variable"
   ]
  },
  {
   "attachments": {},
   "cell_type": "markdown",
   "metadata": {},
   "source": [
    "Variable adalah tempat menyimpan suatu nilai.\n",
    "Cara membuat variable yang baik:\n",
    "- Tidak boleh diawali dengan angka\n",
    "- Pascal, camel, snake"
   ]
  },
  {
   "cell_type": "code",
   "execution_count": 23,
   "metadata": {},
   "outputs": [],
   "source": [
    "VariableName = 'irfan'\n",
    "variableName= 'ahmad'\n",
    "varaible_name = 'akhmad'\n",
    "_variable= 'joko'"
   ]
  },
  {
   "cell_type": "code",
   "execution_count": 22,
   "metadata": {},
   "outputs": [
    {
     "ename": "SyntaxError",
     "evalue": "invalid syntax (<ipython-input-22-5507d76ac977>, line 1)",
     "output_type": "error",
     "traceback": [
      "\u001b[1;36m  File \u001b[1;32m\"<ipython-input-22-5507d76ac977>\"\u001b[1;36m, line \u001b[1;32m1\u001b[0m\n\u001b[1;33m    3variable= 'joko'\u001b[0m\n\u001b[1;37m     ^\u001b[0m\n\u001b[1;31mSyntaxError\u001b[0m\u001b[1;31m:\u001b[0m invalid syntax\n"
     ]
    }
   ],
   "source": [
    "variable= 'joko'"
   ]
  },
  {
   "cell_type": "code",
   "execution_count": 27,
   "metadata": {},
   "outputs": [],
   "source": [
    "x,y,z= 'irfan','sardi','irfansyah'"
   ]
  },
  {
   "cell_type": "code",
   "execution_count": 28,
   "metadata": {},
   "outputs": [
    {
     "name": "stdout",
     "output_type": "stream",
     "text": [
      "sardi\n"
     ]
    }
   ],
   "source": [
    "print(y)"
   ]
  },
  {
   "attachments": {},
   "cell_type": "markdown",
   "metadata": {},
   "source": [
    "# Casting"
   ]
  },
  {
   "cell_type": "code",
   "execution_count": 44,
   "metadata": {},
   "outputs": [
    {
     "name": "stdout",
     "output_type": "stream",
     "text": [
      "42.8\n"
     ]
    }
   ],
   "source": [
    "x= 4\n",
    "y= 2.8\n",
    "print(str(x)+str(y))"
   ]
  },
  {
   "cell_type": "code",
   "execution_count": 45,
   "metadata": {},
   "outputs": [
    {
     "name": "stdout",
     "output_type": "stream",
     "text": [
      "2\n"
     ]
    }
   ],
   "source": [
    "print(int(y))"
   ]
  },
  {
   "cell_type": "code",
   "execution_count": 41,
   "metadata": {},
   "outputs": [
    {
     "name": "stdout",
     "output_type": "stream",
     "text": [
      "6.0\n"
     ]
    }
   ],
   "source": [
    "print(float(x)+int(y))"
   ]
  },
  {
   "cell_type": "code",
   "execution_count": 49,
   "metadata": {},
   "outputs": [
    {
     "name": "stdout",
     "output_type": "stream",
     "text": [
      "4.58\n"
     ]
    }
   ],
   "source": [
    "#pembulatan\n",
    "k= round(4.578 , 2)\n",
    "print(k)    "
   ]
  },
  {
   "attachments": {},
   "cell_type": "markdown",
   "metadata": {},
   "source": [
    "# Comments"
   ]
  },
  {
   "attachments": {},
   "cell_type": "markdown",
   "metadata": {},
   "source": [
    "- Kasih tau penjelasan berkaitan dengan codingan kita\n",
    "- Agar codingan tidak tereksekusi\n",
    "- ctrl+/"
   ]
  },
  {
   "cell_type": "code",
   "execution_count": 50,
   "metadata": {},
   "outputs": [
    {
     "name": "stdout",
     "output_type": "stream",
     "text": [
      "11.2\n"
     ]
    }
   ],
   "source": [
    "'''\n",
    "hitung perkalian\n",
    "'''\n",
    "# hitung perkalian\n",
    "print(x*y) #hitung perkalian"
   ]
  },
  {
   "attachments": {},
   "cell_type": "markdown",
   "metadata": {},
   "source": [
    "# operator"
   ]
  },
  {
   "cell_type": "code",
   "execution_count": 63,
   "metadata": {},
   "outputs": [
    {
     "name": "stdout",
     "output_type": "stream",
     "text": [
      "40\n",
      "2.5\n",
      "2\n",
      "2\n",
      "10000\n"
     ]
    }
   ],
   "source": [
    "a= 10\n",
    "b= 4\n",
    "print(a*b)\n",
    "print(a/b) #float\n",
    "print(a//b) #integer\n",
    "print(a%b) #buat cari tau ganjil dan genap\n",
    "print(a**b)"
   ]
  },
  {
   "cell_type": "code",
   "execution_count": 64,
   "metadata": {},
   "outputs": [
    {
     "name": "stdout",
     "output_type": "stream",
     "text": [
      "foofoofoofoo\n"
     ]
    }
   ],
   "source": [
    "s='foo'\n",
    "print(s*4)"
   ]
  },
  {
   "cell_type": "code",
   "execution_count": 80,
   "metadata": {},
   "outputs": [
    {
     "name": "stdout",
     "output_type": "stream",
     "text": [
      "sardi irfansyah\n",
      "s\n",
      "sard\n",
      "di\n",
      "h\n",
      "di irfansya\n",
      "15\n",
      "ai\n"
     ]
    }
   ],
   "source": [
    "nama= 'sardi irfansyah'\n",
    "print(nama)\n",
    "print(nama[0]) #index itu dari 0\n",
    "print(nama[0:4])\n",
    "print(nama[3:5])\n",
    "print(nama[-1])\n",
    "print(nama[3:-1]) #-1-1= -2\n",
    "print(len(nama))\n",
    "print(nama[1:6:3])"
   ]
  },
  {
   "attachments": {},
   "cell_type": "markdown",
   "metadata": {},
   "source": [
    "# List"
   ]
  },
  {
   "cell_type": "code",
   "execution_count": 82,
   "metadata": {},
   "outputs": [
    {
     "name": "stdout",
     "output_type": "stream",
     "text": [
      "['bemo', 'mobil', 'mobil', 'becak', 'motor', 'kereta']\n",
      "bemo\n",
      "['bemo', 'mobil', 'mobil', 'becak']\n",
      "['becak', 'motor']\n",
      "kereta\n",
      "['becak', 'motor']\n",
      "6\n",
      "['mobil', 'motor']\n"
     ]
    }
   ],
   "source": [
    "kendaraan= ['bemo','mobil','mobil','becak','motor','kereta']\n",
    "print(kendaraan)\n",
    "print(kendaraan[0]) #index itu dari 0\n",
    "print(kendaraan[0:4])\n",
    "print(kendaraan[3:5])\n",
    "print(kendaraan[-1])\n",
    "print(kendaraan[3:-1]) #-1-1= -2\n",
    "print(len(kendaraan))\n",
    "print(kendaraan[1:6:3])"
   ]
  },
  {
   "cell_type": "code",
   "execution_count": 83,
   "metadata": {},
   "outputs": [
    {
     "name": "stdout",
     "output_type": "stream",
     "text": [
      "yes\n"
     ]
    }
   ],
   "source": [
    "if 'bemo' in kendaraan:\n",
    "    print('yes')"
   ]
  },
  {
   "cell_type": "code",
   "execution_count": 84,
   "metadata": {},
   "outputs": [
    {
     "name": "stdout",
     "output_type": "stream",
     "text": [
      "['bemo', 'gojek', 'mobil', 'becak', 'motor', 'kereta']\n"
     ]
    }
   ],
   "source": [
    "#ubah isi list\n",
    "kendaraan[1]='gojek'\n",
    "print(kendaraan)"
   ]
  },
  {
   "cell_type": "code",
   "execution_count": 85,
   "metadata": {},
   "outputs": [
    {
     "name": "stdout",
     "output_type": "stream",
     "text": [
      "['bemo', 'gojek', 'grab', 'becak', 'motor', 'kereta']\n"
     ]
    }
   ],
   "source": [
    "kendaraan[1:3]=['gojek','grab']\n",
    "print(kendaraan)"
   ]
  },
  {
   "cell_type": "code",
   "execution_count": 86,
   "metadata": {},
   "outputs": [
    {
     "name": "stdout",
     "output_type": "stream",
     "text": [
      "['bemo', 'kapal laut', 'becak', 'motor', 'kereta']\n"
     ]
    }
   ],
   "source": [
    "kendaraan[1:3]=['kapal laut']\n",
    "print(kendaraan)"
   ]
  },
  {
   "cell_type": "code",
   "execution_count": 93,
   "metadata": {},
   "outputs": [
    {
     "name": "stdout",
     "output_type": "stream",
     "text": [
      "['Becak', 'pesawat', 'Kapal', 'Becak', 'bemo', 'kapal', 'kapal', 'kapal', 'kereta', 'motor', 'pesawat']\n"
     ]
    }
   ],
   "source": [
    "kendaraan[1:2]=['pesawat','Kapal','Becak']\n",
    "print(kendaraan)"
   ]
  },
  {
   "cell_type": "code",
   "execution_count": 94,
   "metadata": {},
   "outputs": [
    {
     "name": "stdout",
     "output_type": "stream",
     "text": [
      "['Becak', 'Becak', 'Kapal', 'bemo', 'kapal', 'kapal', 'kapal', 'kereta', 'motor', 'pesawat', 'pesawat']\n"
     ]
    }
   ],
   "source": [
    "kendaraan.sort() #sesuai ASCII\n",
    "print(kendaraan)"
   ]
  },
  {
   "cell_type": "code",
   "execution_count": 95,
   "metadata": {},
   "outputs": [
    {
     "name": "stdout",
     "output_type": "stream",
     "text": [
      "Becak\n",
      "pesawat\n"
     ]
    }
   ],
   "source": [
    "print(min(kendaraan))\n",
    "print(max(kendaraan))"
   ]
  },
  {
   "cell_type": "code",
   "execution_count": 96,
   "metadata": {},
   "outputs": [
    {
     "name": "stdout",
     "output_type": "stream",
     "text": [
      "['bemo', 'kapal laut', 'mobil', 'mobil', 'becak', 'motor', 'kereta']\n"
     ]
    }
   ],
   "source": [
    "# insert \n",
    "kendaraan= ['bemo','mobil','mobil','becak','motor','kereta']\n",
    "kendaraan.insert(1,'kapal laut')\n",
    "print(kendaraan)"
   ]
  },
  {
   "cell_type": "code",
   "execution_count": 97,
   "metadata": {},
   "outputs": [
    {
     "name": "stdout",
     "output_type": "stream",
     "text": [
      "['bemo', 'kapal laut', 'mobil', 'mobil', 'becak', 'motor', 'kereta', 'gojek']\n"
     ]
    }
   ],
   "source": [
    "#menambahkan data\n",
    "kendaraan.append('gojek')\n",
    "print(kendaraan)"
   ]
  },
  {
   "cell_type": "code",
   "execution_count": 98,
   "metadata": {},
   "outputs": [
    {
     "name": "stdout",
     "output_type": "stream",
     "text": [
      "['bemo', 'mobil', 'mobil', 'becak', 'motor', 'kereta', 'gojek', 'taxi']\n"
     ]
    }
   ],
   "source": [
    "kendaraan= ['bemo','mobil','mobil','becak','motor','kereta']\n",
    "kendaraan2= ['gojek','taxi']\n",
    "kendaraan.extend(kendaraan2)\n",
    "print(kendaraan)"
   ]
  },
  {
   "cell_type": "code",
   "execution_count": 99,
   "metadata": {},
   "outputs": [
    {
     "name": "stdout",
     "output_type": "stream",
     "text": [
      "['bemo', 'mobil', 'mobil', 'becak', 'motor', 'kereta', ['gojek', 'taxi']]\n"
     ]
    }
   ],
   "source": [
    "kendaraan= ['bemo','mobil','mobil','becak','motor','kereta']\n",
    "kendaraan2= ['gojek','taxi']\n",
    "kendaraan.append(kendaraan2)\n",
    "print(kendaraan)"
   ]
  },
  {
   "cell_type": "code",
   "execution_count": 103,
   "metadata": {},
   "outputs": [
    {
     "name": "stdout",
     "output_type": "stream",
     "text": [
      "['bemo', 'mobil', 'mobil', 'becak', 'gojek', 'kereta']\n",
      "['bemo', 'mobil', 'becak', 'gojek', 'kereta']\n",
      "['bemo', 'mobil', 'becak', 'gojek']\n"
     ]
    }
   ],
   "source": [
    "kendaraan= ['bemo','mobil','mobil','becak','gojek','gojek','kereta']\n",
    "kendaraan.remove('gojek')\n",
    "print(kendaraan)\n",
    "\n",
    "kendaraan.pop(1)\n",
    "print(kendaraan)\n",
    "\n",
    "\n",
    "# del kendaraan[1]\n",
    "# print(kendaraan)\n",
    "\n",
    "kendaraan.pop() #index terakhir yg dihapus\n",
    "print(kendaraan)"
   ]
  },
  {
   "cell_type": "code",
   "execution_count": 107,
   "metadata": {},
   "outputs": [
    {
     "name": "stdout",
     "output_type": "stream",
     "text": [
      "[]\n"
     ]
    }
   ],
   "source": [
    "kendaraan= ['bemo','mobil','mobil','becak','gojek','gojek','kereta']\n",
    "kendaraan.clear()\n",
    "print(kendaraan)"
   ]
  },
  {
   "cell_type": "code",
   "execution_count": 104,
   "metadata": {},
   "outputs": [
    {
     "ename": "NameError",
     "evalue": "name 'kendaraan' is not defined",
     "output_type": "error",
     "traceback": [
      "\u001b[1;31m---------------------------------------------------------------------------\u001b[0m",
      "\u001b[1;31mNameError\u001b[0m                                 Traceback (most recent call last)",
      "\u001b[1;32m<ipython-input-104-6c82b9ae6fb5>\u001b[0m in \u001b[0;36m<module>\u001b[1;34m\u001b[0m\n\u001b[0;32m      1\u001b[0m \u001b[1;32mdel\u001b[0m \u001b[0mkendaraan\u001b[0m\u001b[1;33m\u001b[0m\u001b[1;33m\u001b[0m\u001b[0m\n\u001b[1;32m----> 2\u001b[1;33m \u001b[0mprint\u001b[0m\u001b[1;33m(\u001b[0m\u001b[0mkendaraan\u001b[0m\u001b[1;33m)\u001b[0m\u001b[1;33m\u001b[0m\u001b[1;33m\u001b[0m\u001b[0m\n\u001b[0m",
      "\u001b[1;31mNameError\u001b[0m: name 'kendaraan' is not defined"
     ]
    }
   ],
   "source": [
    "del kendaraan\n",
    "print(kendaraan)"
   ]
  },
  {
   "attachments": {},
   "cell_type": "markdown",
   "metadata": {},
   "source": [
    "# tuple"
   ]
  },
  {
   "cell_type": "code",
   "execution_count": 109,
   "metadata": {},
   "outputs": [
    {
     "name": "stdout",
     "output_type": "stream",
     "text": [
      "('bemo', 'mobil', 'mobil', 'becak', 'gojek', 'gojek', 'kereta')\n",
      "bemo\n"
     ]
    }
   ],
   "source": [
    "kendaraan= ('bemo','mobil','mobil','becak','gojek','gojek','kereta')\n",
    "print(kendaraan)\n",
    "print(kendaraan[0])"
   ]
  },
  {
   "cell_type": "code",
   "execution_count": 112,
   "metadata": {},
   "outputs": [
    {
     "name": "stdout",
     "output_type": "stream",
     "text": [
      "<class 'tuple'>\n",
      "('bemo', 'pesawat', 'mobil', 'becak', 'gojek', 'gojek', 'kereta')\n"
     ]
    }
   ],
   "source": [
    "print(type(kendaraan))\n",
    "kendaraan2= list(kendaraan)\n",
    "kendaraan2[1] ='pesawat'\n",
    "kendaraan= tuple(kendaraan2)\n",
    "print(kendaraan)"
   ]
  },
  {
   "attachments": {},
   "cell_type": "markdown",
   "metadata": {},
   "source": [
    "# set"
   ]
  },
  {
   "cell_type": "code",
   "execution_count": 113,
   "metadata": {},
   "outputs": [
    {
     "name": "stdout",
     "output_type": "stream",
     "text": [
      "{'bemo', 'becak', 'mobil', 'gojek', 'kereta'}\n"
     ]
    }
   ],
   "source": [
    "kendaraan= {'bemo','mobil','mobil','becak','gojek','gojek','kereta'}\n",
    "print(kendaraan)"
   ]
  },
  {
   "cell_type": "code",
   "execution_count": 114,
   "metadata": {},
   "outputs": [
    {
     "ename": "TypeError",
     "evalue": "'set' object is not subscriptable",
     "output_type": "error",
     "traceback": [
      "\u001b[1;31m---------------------------------------------------------------------------\u001b[0m",
      "\u001b[1;31mTypeError\u001b[0m                                 Traceback (most recent call last)",
      "\u001b[1;32m<ipython-input-114-57501905df93>\u001b[0m in \u001b[0;36m<module>\u001b[1;34m\u001b[0m\n\u001b[1;32m----> 1\u001b[1;33m \u001b[0mprint\u001b[0m\u001b[1;33m(\u001b[0m\u001b[0mkendaraan\u001b[0m\u001b[1;33m[\u001b[0m\u001b[1;36m1\u001b[0m\u001b[1;33m]\u001b[0m\u001b[1;33m)\u001b[0m\u001b[1;33m\u001b[0m\u001b[1;33m\u001b[0m\u001b[0m\n\u001b[0m",
      "\u001b[1;31mTypeError\u001b[0m: 'set' object is not subscriptable"
     ]
    }
   ],
   "source": [
    "print(kendaraan[1])"
   ]
  },
  {
   "attachments": {},
   "cell_type": "markdown",
   "metadata": {},
   "source": [
    "# Dictionary"
   ]
  },
  {
   "cell_type": "code",
   "execution_count": 115,
   "metadata": {},
   "outputs": [
    {
     "name": "stdout",
     "output_type": "stream",
     "text": [
      "{'nama': 'irfan', 'alamat': 'jakarta', 'ktp': 42}\n"
     ]
    }
   ],
   "source": [
    "dataKaryawan= {\n",
    "    'nama':'irfan',\n",
    "    'alamat': 'jakarta',\n",
    "    'ktp': 42,\n",
    "}\n",
    "print(dataKaryawan)"
   ]
  },
  {
   "cell_type": "code",
   "execution_count": 116,
   "metadata": {},
   "outputs": [
    {
     "data": {
      "text/plain": [
       "'irfan'"
      ]
     },
     "execution_count": 116,
     "metadata": {},
     "output_type": "execute_result"
    }
   ],
   "source": [
    "dataKaryawan['nama']"
   ]
  },
  {
   "cell_type": "code",
   "execution_count": 117,
   "metadata": {},
   "outputs": [
    {
     "data": {
      "text/plain": [
       "'irfan'"
      ]
     },
     "execution_count": 117,
     "metadata": {},
     "output_type": "execute_result"
    }
   ],
   "source": [
    "dataKaryawan.get('nama')"
   ]
  },
  {
   "cell_type": "code",
   "execution_count": 118,
   "metadata": {},
   "outputs": [
    {
     "data": {
      "text/plain": [
       "dict_keys(['nama', 'alamat', 'ktp'])"
      ]
     },
     "execution_count": 118,
     "metadata": {},
     "output_type": "execute_result"
    }
   ],
   "source": [
    "dataKaryawan.keys()"
   ]
  },
  {
   "cell_type": "code",
   "execution_count": 119,
   "metadata": {},
   "outputs": [
    {
     "data": {
      "text/plain": [
       "dict_values(['irfan', 'jakarta', 42])"
      ]
     },
     "execution_count": 119,
     "metadata": {},
     "output_type": "execute_result"
    }
   ],
   "source": [
    "dataKaryawan.values()"
   ]
  },
  {
   "cell_type": "code",
   "execution_count": 120,
   "metadata": {},
   "outputs": [
    {
     "data": {
      "text/plain": [
       "dict_items([('nama', 'irfan'), ('alamat', 'jakarta'), ('ktp', 42)])"
      ]
     },
     "execution_count": 120,
     "metadata": {},
     "output_type": "execute_result"
    }
   ],
   "source": [
    "dataKaryawan.items()"
   ]
  },
  {
   "cell_type": "code",
   "execution_count": 121,
   "metadata": {},
   "outputs": [
    {
     "name": "stdout",
     "output_type": "stream",
     "text": [
      "{'nama': 'sardi', 'alamat': 'jakarta', 'ktp': 42}\n"
     ]
    }
   ],
   "source": [
    "dataKaryawan['nama']= 'sardi'\n",
    "print(dataKaryawan)"
   ]
  },
  {
   "cell_type": "code",
   "execution_count": 122,
   "metadata": {},
   "outputs": [
    {
     "name": "stdout",
     "output_type": "stream",
     "text": [
      "{'nama': 'sardi', 'alamat': 'jakarta', 'ktp': 42, 'kelahiran': 'jakarta'}\n"
     ]
    }
   ],
   "source": [
    "dataKaryawan['kelahiran']='jakarta'\n",
    "print(dataKaryawan)"
   ]
  },
  {
   "cell_type": "code",
   "execution_count": 123,
   "metadata": {},
   "outputs": [],
   "source": [
    "dataKaryawan= { \n",
    "    1: \n",
    "        {\n",
    "        'nama':'irfan',\n",
    "        'alamat': 'jakarta',\n",
    "        'ktp': 42,\n",
    "        },\n",
    "    2: \n",
    "        {\n",
    "        'nama':'sardi',\n",
    "        'alamat': 'jakarta',\n",
    "        'ktp': 412,\n",
    "        }\n",
    "}"
   ]
  },
  {
   "cell_type": "code",
   "execution_count": 128,
   "metadata": {},
   "outputs": [
    {
     "name": "stdout",
     "output_type": "stream",
     "text": [
      "{'nama': 'sardi', 'alamat': 'jakarta', 'ktp': 412}\n",
      "jakarta\n"
     ]
    }
   ],
   "source": [
    "print(dataKaryawan[2])\n",
    "print(dataKaryawan[2]['alamat'])"
   ]
  },
  {
   "cell_type": "code",
   "execution_count": 131,
   "metadata": {},
   "outputs": [
    {
     "name": "stdout",
     "output_type": "stream",
     "text": [
      "{1: {'nama': 'irfan', 'alamat': 'jakarta', 'ktp': 42}, 2: {'nama': 'sardi', 'alamat': 'jakarta', 'ktp': 412}}\n"
     ]
    }
   ],
   "source": [
    "print(dataKaryawan)"
   ]
  },
  {
   "attachments": {},
   "cell_type": "markdown",
   "metadata": {},
   "source": [
    "# format string"
   ]
  },
  {
   "cell_type": "code",
   "execution_count": 141,
   "metadata": {},
   "outputs": [
    {
     "name": "stdout",
     "output_type": "stream",
     "text": [
      "hallo, nama saya 21, umur saya ahmad\n"
     ]
    }
   ],
   "source": [
    "umur= 21\n",
    "nama= 'ahmad'\n",
    "kalimat= 'hallo, nama saya {}, umur saya {}'\n",
    "print(kalimat.format(umur,nama))"
   ]
  },
  {
   "cell_type": "code",
   "execution_count": 144,
   "metadata": {},
   "outputs": [
    {
     "name": "stdout",
     "output_type": "stream",
     "text": [
      "hallo, nama saya ahmad, umur saya 21\n"
     ]
    }
   ],
   "source": [
    "print('hallo, nama saya {}, umur saya {}'.format(nama,umur))"
   ]
  },
  {
   "cell_type": "code",
   "execution_count": 143,
   "metadata": {},
   "outputs": [
    {
     "name": "stdout",
     "output_type": "stream",
     "text": [
      "hallo, nama saya ahmad, umur saya 21.00\n",
      "hello, nama saya ahmad, umur saya 21\n"
     ]
    }
   ],
   "source": [
    "umur= 21\n",
    "nama= 'ahmad'\n",
    "print(f'hallo, nama saya {nama}, umur saya {umur:.2f}')\n",
    "print('hello, nama saya %s, umur saya %d' % (nama,umur))"
   ]
  }
 ],
 "metadata": {
  "kernelspec": {
   "display_name": "base",
   "language": "python",
   "name": "python3"
  },
  "language_info": {
   "codemirror_mode": {
    "name": "ipython",
    "version": 3
   },
   "file_extension": ".py",
   "mimetype": "text/x-python",
   "name": "python",
   "nbconvert_exporter": "python",
   "pygments_lexer": "ipython3",
   "version": "3.8.8"
  },
  "orig_nbformat": 4,
  "vscode": {
   "interpreter": {
    "hash": "a2ab3825ac7005fb7b26f112e9c99ae62f464c629e30b0d534c3b931b6cbc3ff"
   }
  }
 },
 "nbformat": 4,
 "nbformat_minor": 2
}
