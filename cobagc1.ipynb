{
 "cells": [
  {
   "attachments": {},
   "cell_type": "markdown",
   "metadata": {},
   "source": [
    "COVID 19 DATA ANALYSIS"
   ]
  },
  {
   "attachments": {},
   "cell_type": "markdown",
   "metadata": {},
   "source": [
    "pada data kali ini saya akan mengolah data dari jhu tentang covid 19. saya akan menampilkan keseluruhan data, mengeksplorasi data, memperbaiki missing value, mengubah nama kolom data, menghapus kolom tidak terpakai, melakukan query, grouping dan visualisasi data"
   ]
  },
  {
   "attachments": {},
   "cell_type": "markdown",
   "metadata": {},
   "source": [
    "library yang digunakan ialah numpy dan pandas"
   ]
  },
  {
   "cell_type": "code",
   "execution_count": 1,
   "metadata": {},
   "outputs": [],
   "source": [
    "import numpy as np\n",
    "import pandas as pd"
   ]
  },
  {
   "attachments": {},
   "cell_type": "markdown",
   "metadata": {},
   "source": [
    "kemudian membaca file csv yang di buat oleh jhu tentang covid 19 terbaru"
   ]
  },
  {
   "cell_type": "code",
   "execution_count": 2,
   "metadata": {},
   "outputs": [],
   "source": [
    "df = pd.read_csv('https://raw.githubusercontent.com/rionmarianto/day5/main/h8dsft_P0GC1_Rion_Marianto_Putra.csv')"
   ]
  },
  {
   "cell_type": "code",
   "execution_count": 3,
   "metadata": {},
   "outputs": [
    {
     "data": {
      "text/plain": [
       "4016"
      ]
     },
     "execution_count": 3,
     "metadata": {},
     "output_type": "execute_result"
    }
   ],
   "source": [
    "len(df)"
   ]
  },
  {
   "cell_type": "code",
   "execution_count": 4,
   "metadata": {},
   "outputs": [
    {
     "data": {
      "text/plain": [
       "(4016, 14)"
      ]
     },
     "execution_count": 4,
     "metadata": {},
     "output_type": "execute_result"
    }
   ],
   "source": [
    "df.shape"
   ]
  },
  {
   "attachments": {},
   "cell_type": "markdown",
   "metadata": {},
   "source": [
    "pertama sederhanakan atau ubah df menjadi covid dengan df.copy agar mempermudah"
   ]
  },
  {
   "cell_type": "code",
   "execution_count": 22,
   "metadata": {},
   "outputs": [],
   "source": [
    "covid=df.copy()"
   ]
  },
  {
   "attachments": {},
   "cell_type": "markdown",
   "metadata": {},
   "source": [
    "kemudian tampilkan data 5 teratas dengan df.head()"
   ]
  },
  {
   "cell_type": "code",
   "execution_count": 23,
   "metadata": {},
   "outputs": [
    {
     "data": {
      "text/html": [
       "<div>\n",
       "<style scoped>\n",
       "    .dataframe tbody tr th:only-of-type {\n",
       "        vertical-align: middle;\n",
       "    }\n",
       "\n",
       "    .dataframe tbody tr th {\n",
       "        vertical-align: top;\n",
       "    }\n",
       "\n",
       "    .dataframe thead th {\n",
       "        text-align: right;\n",
       "    }\n",
       "</style>\n",
       "<table border=\"1\" class=\"dataframe\">\n",
       "  <thead>\n",
       "    <tr style=\"text-align: right;\">\n",
       "      <th></th>\n",
       "      <th>FIPS</th>\n",
       "      <th>Admin2</th>\n",
       "      <th>Province_State</th>\n",
       "      <th>Country_Region</th>\n",
       "      <th>Last_Update</th>\n",
       "      <th>Lat</th>\n",
       "      <th>Long_</th>\n",
       "      <th>Confirmed</th>\n",
       "      <th>Deaths</th>\n",
       "      <th>Recovered</th>\n",
       "      <th>Active</th>\n",
       "      <th>Combined_Key</th>\n",
       "      <th>Incident_Rate</th>\n",
       "      <th>Case_Fatality_Ratio</th>\n",
       "    </tr>\n",
       "  </thead>\n",
       "  <tbody>\n",
       "    <tr>\n",
       "      <th>0</th>\n",
       "      <td>NaN</td>\n",
       "      <td>NaN</td>\n",
       "      <td>NaN</td>\n",
       "      <td>Afghanistan</td>\n",
       "      <td>2023-02-04 04:21:01</td>\n",
       "      <td>33.93911</td>\n",
       "      <td>67.709953</td>\n",
       "      <td>208669</td>\n",
       "      <td>7891</td>\n",
       "      <td>NaN</td>\n",
       "      <td>NaN</td>\n",
       "      <td>Afghanistan</td>\n",
       "      <td>536.033632</td>\n",
       "      <td>3.781587</td>\n",
       "    </tr>\n",
       "    <tr>\n",
       "      <th>1</th>\n",
       "      <td>NaN</td>\n",
       "      <td>NaN</td>\n",
       "      <td>NaN</td>\n",
       "      <td>Albania</td>\n",
       "      <td>2023-02-04 04:21:01</td>\n",
       "      <td>41.15330</td>\n",
       "      <td>20.168300</td>\n",
       "      <td>334203</td>\n",
       "      <td>3596</td>\n",
       "      <td>NaN</td>\n",
       "      <td>NaN</td>\n",
       "      <td>Albania</td>\n",
       "      <td>11613.141983</td>\n",
       "      <td>1.075993</td>\n",
       "    </tr>\n",
       "    <tr>\n",
       "      <th>2</th>\n",
       "      <td>NaN</td>\n",
       "      <td>NaN</td>\n",
       "      <td>NaN</td>\n",
       "      <td>Algeria</td>\n",
       "      <td>2023-02-04 04:21:01</td>\n",
       "      <td>28.03390</td>\n",
       "      <td>1.659600</td>\n",
       "      <td>271394</td>\n",
       "      <td>6881</td>\n",
       "      <td>NaN</td>\n",
       "      <td>NaN</td>\n",
       "      <td>Algeria</td>\n",
       "      <td>618.899760</td>\n",
       "      <td>2.535428</td>\n",
       "    </tr>\n",
       "    <tr>\n",
       "      <th>3</th>\n",
       "      <td>NaN</td>\n",
       "      <td>NaN</td>\n",
       "      <td>NaN</td>\n",
       "      <td>Andorra</td>\n",
       "      <td>2023-02-04 04:21:01</td>\n",
       "      <td>42.50630</td>\n",
       "      <td>1.521800</td>\n",
       "      <td>47850</td>\n",
       "      <td>165</td>\n",
       "      <td>NaN</td>\n",
       "      <td>NaN</td>\n",
       "      <td>Andorra</td>\n",
       "      <td>61929.722384</td>\n",
       "      <td>0.344828</td>\n",
       "    </tr>\n",
       "    <tr>\n",
       "      <th>4</th>\n",
       "      <td>NaN</td>\n",
       "      <td>NaN</td>\n",
       "      <td>NaN</td>\n",
       "      <td>Angola</td>\n",
       "      <td>2023-02-04 04:21:01</td>\n",
       "      <td>-11.20270</td>\n",
       "      <td>17.873900</td>\n",
       "      <td>105184</td>\n",
       "      <td>1931</td>\n",
       "      <td>NaN</td>\n",
       "      <td>NaN</td>\n",
       "      <td>Angola</td>\n",
       "      <td>320.036336</td>\n",
       "      <td>1.835831</td>\n",
       "    </tr>\n",
       "  </tbody>\n",
       "</table>\n",
       "</div>"
      ],
      "text/plain": [
       "   FIPS Admin2 Province_State Country_Region          Last_Update       Lat  \\\n",
       "0   NaN    NaN            NaN    Afghanistan  2023-02-04 04:21:01  33.93911   \n",
       "1   NaN    NaN            NaN        Albania  2023-02-04 04:21:01  41.15330   \n",
       "2   NaN    NaN            NaN        Algeria  2023-02-04 04:21:01  28.03390   \n",
       "3   NaN    NaN            NaN        Andorra  2023-02-04 04:21:01  42.50630   \n",
       "4   NaN    NaN            NaN         Angola  2023-02-04 04:21:01 -11.20270   \n",
       "\n",
       "       Long_  Confirmed  Deaths  Recovered  Active Combined_Key  \\\n",
       "0  67.709953     208669    7891        NaN     NaN  Afghanistan   \n",
       "1  20.168300     334203    3596        NaN     NaN      Albania   \n",
       "2   1.659600     271394    6881        NaN     NaN      Algeria   \n",
       "3   1.521800      47850     165        NaN     NaN      Andorra   \n",
       "4  17.873900     105184    1931        NaN     NaN       Angola   \n",
       "\n",
       "   Incident_Rate  Case_Fatality_Ratio  \n",
       "0     536.033632             3.781587  \n",
       "1   11613.141983             1.075993  \n",
       "2     618.899760             2.535428  \n",
       "3   61929.722384             0.344828  \n",
       "4     320.036336             1.835831  "
      ]
     },
     "execution_count": 23,
     "metadata": {},
     "output_type": "execute_result"
    }
   ],
   "source": [
    "covid.head()"
   ]
  },
  {
   "attachments": {},
   "cell_type": "markdown",
   "metadata": {},
   "source": [
    "dan data 5 terbawah dengan df.tail()"
   ]
  },
  {
   "cell_type": "code",
   "execution_count": 24,
   "metadata": {},
   "outputs": [
    {
     "data": {
      "text/html": [
       "<div>\n",
       "<style scoped>\n",
       "    .dataframe tbody tr th:only-of-type {\n",
       "        vertical-align: middle;\n",
       "    }\n",
       "\n",
       "    .dataframe tbody tr th {\n",
       "        vertical-align: top;\n",
       "    }\n",
       "\n",
       "    .dataframe thead th {\n",
       "        text-align: right;\n",
       "    }\n",
       "</style>\n",
       "<table border=\"1\" class=\"dataframe\">\n",
       "  <thead>\n",
       "    <tr style=\"text-align: right;\">\n",
       "      <th></th>\n",
       "      <th>FIPS</th>\n",
       "      <th>Admin2</th>\n",
       "      <th>Province_State</th>\n",
       "      <th>Country_Region</th>\n",
       "      <th>Last_Update</th>\n",
       "      <th>Lat</th>\n",
       "      <th>Long_</th>\n",
       "      <th>Confirmed</th>\n",
       "      <th>Deaths</th>\n",
       "      <th>Recovered</th>\n",
       "      <th>Active</th>\n",
       "      <th>Combined_Key</th>\n",
       "      <th>Incident_Rate</th>\n",
       "      <th>Case_Fatality_Ratio</th>\n",
       "    </tr>\n",
       "  </thead>\n",
       "  <tbody>\n",
       "    <tr>\n",
       "      <th>4011</th>\n",
       "      <td>NaN</td>\n",
       "      <td>NaN</td>\n",
       "      <td>NaN</td>\n",
       "      <td>West Bank and Gaza</td>\n",
       "      <td>2023-02-04 04:21:01</td>\n",
       "      <td>31.952200</td>\n",
       "      <td>35.233200</td>\n",
       "      <td>703228</td>\n",
       "      <td>5708</td>\n",
       "      <td>NaN</td>\n",
       "      <td>NaN</td>\n",
       "      <td>West Bank and Gaza</td>\n",
       "      <td>13784.956961</td>\n",
       "      <td>0.811686</td>\n",
       "    </tr>\n",
       "    <tr>\n",
       "      <th>4012</th>\n",
       "      <td>NaN</td>\n",
       "      <td>NaN</td>\n",
       "      <td>NaN</td>\n",
       "      <td>Winter Olympics 2022</td>\n",
       "      <td>2023-02-04 04:21:01</td>\n",
       "      <td>39.904200</td>\n",
       "      <td>116.407400</td>\n",
       "      <td>535</td>\n",
       "      <td>0</td>\n",
       "      <td>NaN</td>\n",
       "      <td>NaN</td>\n",
       "      <td>Winter Olympics 2022</td>\n",
       "      <td>NaN</td>\n",
       "      <td>0.000000</td>\n",
       "    </tr>\n",
       "    <tr>\n",
       "      <th>4013</th>\n",
       "      <td>NaN</td>\n",
       "      <td>NaN</td>\n",
       "      <td>NaN</td>\n",
       "      <td>Yemen</td>\n",
       "      <td>2023-02-04 04:21:01</td>\n",
       "      <td>15.552727</td>\n",
       "      <td>48.516388</td>\n",
       "      <td>11945</td>\n",
       "      <td>2159</td>\n",
       "      <td>NaN</td>\n",
       "      <td>NaN</td>\n",
       "      <td>Yemen</td>\n",
       "      <td>40.048994</td>\n",
       "      <td>18.074508</td>\n",
       "    </tr>\n",
       "    <tr>\n",
       "      <th>4014</th>\n",
       "      <td>NaN</td>\n",
       "      <td>NaN</td>\n",
       "      <td>NaN</td>\n",
       "      <td>Zambia</td>\n",
       "      <td>2023-02-04 04:21:01</td>\n",
       "      <td>-13.133897</td>\n",
       "      <td>27.849332</td>\n",
       "      <td>341397</td>\n",
       "      <td>4049</td>\n",
       "      <td>NaN</td>\n",
       "      <td>NaN</td>\n",
       "      <td>Zambia</td>\n",
       "      <td>1857.037734</td>\n",
       "      <td>1.186009</td>\n",
       "    </tr>\n",
       "    <tr>\n",
       "      <th>4015</th>\n",
       "      <td>NaN</td>\n",
       "      <td>NaN</td>\n",
       "      <td>NaN</td>\n",
       "      <td>Zimbabwe</td>\n",
       "      <td>2023-02-04 04:21:01</td>\n",
       "      <td>-19.015438</td>\n",
       "      <td>29.154857</td>\n",
       "      <td>262324</td>\n",
       "      <td>5658</td>\n",
       "      <td>NaN</td>\n",
       "      <td>NaN</td>\n",
       "      <td>Zimbabwe</td>\n",
       "      <td>1764.955180</td>\n",
       "      <td>2.156875</td>\n",
       "    </tr>\n",
       "  </tbody>\n",
       "</table>\n",
       "</div>"
      ],
      "text/plain": [
       "      FIPS Admin2 Province_State        Country_Region          Last_Update  \\\n",
       "4011   NaN    NaN            NaN    West Bank and Gaza  2023-02-04 04:21:01   \n",
       "4012   NaN    NaN            NaN  Winter Olympics 2022  2023-02-04 04:21:01   \n",
       "4013   NaN    NaN            NaN                 Yemen  2023-02-04 04:21:01   \n",
       "4014   NaN    NaN            NaN                Zambia  2023-02-04 04:21:01   \n",
       "4015   NaN    NaN            NaN              Zimbabwe  2023-02-04 04:21:01   \n",
       "\n",
       "            Lat       Long_  Confirmed  Deaths  Recovered  Active  \\\n",
       "4011  31.952200   35.233200     703228    5708        NaN     NaN   \n",
       "4012  39.904200  116.407400        535       0        NaN     NaN   \n",
       "4013  15.552727   48.516388      11945    2159        NaN     NaN   \n",
       "4014 -13.133897   27.849332     341397    4049        NaN     NaN   \n",
       "4015 -19.015438   29.154857     262324    5658        NaN     NaN   \n",
       "\n",
       "              Combined_Key  Incident_Rate  Case_Fatality_Ratio  \n",
       "4011    West Bank and Gaza   13784.956961             0.811686  \n",
       "4012  Winter Olympics 2022            NaN             0.000000  \n",
       "4013                 Yemen      40.048994            18.074508  \n",
       "4014                Zambia    1857.037734             1.186009  \n",
       "4015              Zimbabwe    1764.955180             2.156875  "
      ]
     },
     "execution_count": 24,
     "metadata": {},
     "output_type": "execute_result"
    }
   ],
   "source": [
    "covid.tail()"
   ]
  },
  {
   "attachments": {},
   "cell_type": "markdown",
   "metadata": {},
   "source": [
    "lalu data keseluruhan dengan df atau covid (yang telah disederhanakan)"
   ]
  },
  {
   "cell_type": "code",
   "execution_count": 25,
   "metadata": {},
   "outputs": [
    {
     "data": {
      "text/html": [
       "<div>\n",
       "<style scoped>\n",
       "    .dataframe tbody tr th:only-of-type {\n",
       "        vertical-align: middle;\n",
       "    }\n",
       "\n",
       "    .dataframe tbody tr th {\n",
       "        vertical-align: top;\n",
       "    }\n",
       "\n",
       "    .dataframe thead th {\n",
       "        text-align: right;\n",
       "    }\n",
       "</style>\n",
       "<table border=\"1\" class=\"dataframe\">\n",
       "  <thead>\n",
       "    <tr style=\"text-align: right;\">\n",
       "      <th></th>\n",
       "      <th>FIPS</th>\n",
       "      <th>Admin2</th>\n",
       "      <th>Province_State</th>\n",
       "      <th>Country_Region</th>\n",
       "      <th>Last_Update</th>\n",
       "      <th>Lat</th>\n",
       "      <th>Long_</th>\n",
       "      <th>Confirmed</th>\n",
       "      <th>Deaths</th>\n",
       "      <th>Recovered</th>\n",
       "      <th>Active</th>\n",
       "      <th>Combined_Key</th>\n",
       "      <th>Incident_Rate</th>\n",
       "      <th>Case_Fatality_Ratio</th>\n",
       "    </tr>\n",
       "  </thead>\n",
       "  <tbody>\n",
       "    <tr>\n",
       "      <th>0</th>\n",
       "      <td>NaN</td>\n",
       "      <td>NaN</td>\n",
       "      <td>NaN</td>\n",
       "      <td>Afghanistan</td>\n",
       "      <td>2023-02-04 04:21:01</td>\n",
       "      <td>33.939110</td>\n",
       "      <td>67.709953</td>\n",
       "      <td>208669</td>\n",
       "      <td>7891</td>\n",
       "      <td>NaN</td>\n",
       "      <td>NaN</td>\n",
       "      <td>Afghanistan</td>\n",
       "      <td>536.033632</td>\n",
       "      <td>3.781587</td>\n",
       "    </tr>\n",
       "    <tr>\n",
       "      <th>1</th>\n",
       "      <td>NaN</td>\n",
       "      <td>NaN</td>\n",
       "      <td>NaN</td>\n",
       "      <td>Albania</td>\n",
       "      <td>2023-02-04 04:21:01</td>\n",
       "      <td>41.153300</td>\n",
       "      <td>20.168300</td>\n",
       "      <td>334203</td>\n",
       "      <td>3596</td>\n",
       "      <td>NaN</td>\n",
       "      <td>NaN</td>\n",
       "      <td>Albania</td>\n",
       "      <td>11613.141983</td>\n",
       "      <td>1.075993</td>\n",
       "    </tr>\n",
       "    <tr>\n",
       "      <th>2</th>\n",
       "      <td>NaN</td>\n",
       "      <td>NaN</td>\n",
       "      <td>NaN</td>\n",
       "      <td>Algeria</td>\n",
       "      <td>2023-02-04 04:21:01</td>\n",
       "      <td>28.033900</td>\n",
       "      <td>1.659600</td>\n",
       "      <td>271394</td>\n",
       "      <td>6881</td>\n",
       "      <td>NaN</td>\n",
       "      <td>NaN</td>\n",
       "      <td>Algeria</td>\n",
       "      <td>618.899760</td>\n",
       "      <td>2.535428</td>\n",
       "    </tr>\n",
       "    <tr>\n",
       "      <th>3</th>\n",
       "      <td>NaN</td>\n",
       "      <td>NaN</td>\n",
       "      <td>NaN</td>\n",
       "      <td>Andorra</td>\n",
       "      <td>2023-02-04 04:21:01</td>\n",
       "      <td>42.506300</td>\n",
       "      <td>1.521800</td>\n",
       "      <td>47850</td>\n",
       "      <td>165</td>\n",
       "      <td>NaN</td>\n",
       "      <td>NaN</td>\n",
       "      <td>Andorra</td>\n",
       "      <td>61929.722384</td>\n",
       "      <td>0.344828</td>\n",
       "    </tr>\n",
       "    <tr>\n",
       "      <th>4</th>\n",
       "      <td>NaN</td>\n",
       "      <td>NaN</td>\n",
       "      <td>NaN</td>\n",
       "      <td>Angola</td>\n",
       "      <td>2023-02-04 04:21:01</td>\n",
       "      <td>-11.202700</td>\n",
       "      <td>17.873900</td>\n",
       "      <td>105184</td>\n",
       "      <td>1931</td>\n",
       "      <td>NaN</td>\n",
       "      <td>NaN</td>\n",
       "      <td>Angola</td>\n",
       "      <td>320.036336</td>\n",
       "      <td>1.835831</td>\n",
       "    </tr>\n",
       "    <tr>\n",
       "      <th>...</th>\n",
       "      <td>...</td>\n",
       "      <td>...</td>\n",
       "      <td>...</td>\n",
       "      <td>...</td>\n",
       "      <td>...</td>\n",
       "      <td>...</td>\n",
       "      <td>...</td>\n",
       "      <td>...</td>\n",
       "      <td>...</td>\n",
       "      <td>...</td>\n",
       "      <td>...</td>\n",
       "      <td>...</td>\n",
       "      <td>...</td>\n",
       "      <td>...</td>\n",
       "    </tr>\n",
       "    <tr>\n",
       "      <th>4011</th>\n",
       "      <td>NaN</td>\n",
       "      <td>NaN</td>\n",
       "      <td>NaN</td>\n",
       "      <td>West Bank and Gaza</td>\n",
       "      <td>2023-02-04 04:21:01</td>\n",
       "      <td>31.952200</td>\n",
       "      <td>35.233200</td>\n",
       "      <td>703228</td>\n",
       "      <td>5708</td>\n",
       "      <td>NaN</td>\n",
       "      <td>NaN</td>\n",
       "      <td>West Bank and Gaza</td>\n",
       "      <td>13784.956961</td>\n",
       "      <td>0.811686</td>\n",
       "    </tr>\n",
       "    <tr>\n",
       "      <th>4012</th>\n",
       "      <td>NaN</td>\n",
       "      <td>NaN</td>\n",
       "      <td>NaN</td>\n",
       "      <td>Winter Olympics 2022</td>\n",
       "      <td>2023-02-04 04:21:01</td>\n",
       "      <td>39.904200</td>\n",
       "      <td>116.407400</td>\n",
       "      <td>535</td>\n",
       "      <td>0</td>\n",
       "      <td>NaN</td>\n",
       "      <td>NaN</td>\n",
       "      <td>Winter Olympics 2022</td>\n",
       "      <td>NaN</td>\n",
       "      <td>0.000000</td>\n",
       "    </tr>\n",
       "    <tr>\n",
       "      <th>4013</th>\n",
       "      <td>NaN</td>\n",
       "      <td>NaN</td>\n",
       "      <td>NaN</td>\n",
       "      <td>Yemen</td>\n",
       "      <td>2023-02-04 04:21:01</td>\n",
       "      <td>15.552727</td>\n",
       "      <td>48.516388</td>\n",
       "      <td>11945</td>\n",
       "      <td>2159</td>\n",
       "      <td>NaN</td>\n",
       "      <td>NaN</td>\n",
       "      <td>Yemen</td>\n",
       "      <td>40.048994</td>\n",
       "      <td>18.074508</td>\n",
       "    </tr>\n",
       "    <tr>\n",
       "      <th>4014</th>\n",
       "      <td>NaN</td>\n",
       "      <td>NaN</td>\n",
       "      <td>NaN</td>\n",
       "      <td>Zambia</td>\n",
       "      <td>2023-02-04 04:21:01</td>\n",
       "      <td>-13.133897</td>\n",
       "      <td>27.849332</td>\n",
       "      <td>341397</td>\n",
       "      <td>4049</td>\n",
       "      <td>NaN</td>\n",
       "      <td>NaN</td>\n",
       "      <td>Zambia</td>\n",
       "      <td>1857.037734</td>\n",
       "      <td>1.186009</td>\n",
       "    </tr>\n",
       "    <tr>\n",
       "      <th>4015</th>\n",
       "      <td>NaN</td>\n",
       "      <td>NaN</td>\n",
       "      <td>NaN</td>\n",
       "      <td>Zimbabwe</td>\n",
       "      <td>2023-02-04 04:21:01</td>\n",
       "      <td>-19.015438</td>\n",
       "      <td>29.154857</td>\n",
       "      <td>262324</td>\n",
       "      <td>5658</td>\n",
       "      <td>NaN</td>\n",
       "      <td>NaN</td>\n",
       "      <td>Zimbabwe</td>\n",
       "      <td>1764.955180</td>\n",
       "      <td>2.156875</td>\n",
       "    </tr>\n",
       "  </tbody>\n",
       "</table>\n",
       "<p>4016 rows × 14 columns</p>\n",
       "</div>"
      ],
      "text/plain": [
       "      FIPS Admin2 Province_State        Country_Region          Last_Update  \\\n",
       "0      NaN    NaN            NaN           Afghanistan  2023-02-04 04:21:01   \n",
       "1      NaN    NaN            NaN               Albania  2023-02-04 04:21:01   \n",
       "2      NaN    NaN            NaN               Algeria  2023-02-04 04:21:01   \n",
       "3      NaN    NaN            NaN               Andorra  2023-02-04 04:21:01   \n",
       "4      NaN    NaN            NaN                Angola  2023-02-04 04:21:01   \n",
       "...    ...    ...            ...                   ...                  ...   \n",
       "4011   NaN    NaN            NaN    West Bank and Gaza  2023-02-04 04:21:01   \n",
       "4012   NaN    NaN            NaN  Winter Olympics 2022  2023-02-04 04:21:01   \n",
       "4013   NaN    NaN            NaN                 Yemen  2023-02-04 04:21:01   \n",
       "4014   NaN    NaN            NaN                Zambia  2023-02-04 04:21:01   \n",
       "4015   NaN    NaN            NaN              Zimbabwe  2023-02-04 04:21:01   \n",
       "\n",
       "            Lat       Long_  Confirmed  Deaths  Recovered  Active  \\\n",
       "0     33.939110   67.709953     208669    7891        NaN     NaN   \n",
       "1     41.153300   20.168300     334203    3596        NaN     NaN   \n",
       "2     28.033900    1.659600     271394    6881        NaN     NaN   \n",
       "3     42.506300    1.521800      47850     165        NaN     NaN   \n",
       "4    -11.202700   17.873900     105184    1931        NaN     NaN   \n",
       "...         ...         ...        ...     ...        ...     ...   \n",
       "4011  31.952200   35.233200     703228    5708        NaN     NaN   \n",
       "4012  39.904200  116.407400        535       0        NaN     NaN   \n",
       "4013  15.552727   48.516388      11945    2159        NaN     NaN   \n",
       "4014 -13.133897   27.849332     341397    4049        NaN     NaN   \n",
       "4015 -19.015438   29.154857     262324    5658        NaN     NaN   \n",
       "\n",
       "              Combined_Key  Incident_Rate  Case_Fatality_Ratio  \n",
       "0              Afghanistan     536.033632             3.781587  \n",
       "1                  Albania   11613.141983             1.075993  \n",
       "2                  Algeria     618.899760             2.535428  \n",
       "3                  Andorra   61929.722384             0.344828  \n",
       "4                   Angola     320.036336             1.835831  \n",
       "...                    ...            ...                  ...  \n",
       "4011    West Bank and Gaza   13784.956961             0.811686  \n",
       "4012  Winter Olympics 2022            NaN             0.000000  \n",
       "4013                 Yemen      40.048994            18.074508  \n",
       "4014                Zambia    1857.037734             1.186009  \n",
       "4015              Zimbabwe    1764.955180             2.156875  \n",
       "\n",
       "[4016 rows x 14 columns]"
      ]
     },
     "execution_count": 25,
     "metadata": {},
     "output_type": "execute_result"
    }
   ],
   "source": [
    "covid"
   ]
  },
  {
   "attachments": {},
   "cell_type": "markdown",
   "metadata": {},
   "source": [
    "eksplorasi data ada negara apa saja di data dengan "
   ]
  },
  {
   "cell_type": "code",
   "execution_count": 29,
   "metadata": {},
   "outputs": [
    {
     "data": {
      "text/plain": [
       "Texas            255\n",
       "Georgia          161\n",
       "Virginia         134\n",
       "Kentucky         121\n",
       "Missouri         117\n",
       "                ... \n",
       "Tamil Nadu         1\n",
       "Telangana          1\n",
       "Tripura            1\n",
       "Uttar Pradesh      1\n",
       "Wales              1\n",
       "Name: Province_State, Length: 598, dtype: int64"
      ]
     },
     "execution_count": 29,
     "metadata": {},
     "output_type": "execute_result"
    }
   ],
   "source": [
    "covid[\"Province_State\"].value_counts()"
   ]
  },
  {
   "cell_type": "code",
   "execution_count": 30,
   "metadata": {},
   "outputs": [
    {
     "data": {
      "text/plain": [
       "US          3279\n",
       "Russia        83\n",
       "Japan         49\n",
       "India         37\n",
       "China         34\n",
       "            ... \n",
       "Guyana         1\n",
       "Haiti          1\n",
       "Holy See       1\n",
       "Honduras       1\n",
       "Zimbabwe       1\n",
       "Name: Country_Region, Length: 201, dtype: int64"
      ]
     },
     "execution_count": 30,
     "metadata": {},
     "output_type": "execute_result"
    }
   ],
   "source": [
    "covid[\"Country_Region\"].value_counts()"
   ]
  },
  {
   "attachments": {},
   "cell_type": "markdown",
   "metadata": {},
   "source": [
    "memperbaiki missing value data covid 19"
   ]
  },
  {
   "cell_type": "code",
   "execution_count": 33,
   "metadata": {},
   "outputs": [
    {
     "name": "stdout",
     "output_type": "stream",
     "text": [
      "<class 'pandas.core.frame.DataFrame'>\n",
      "RangeIndex: 4016 entries, 0 to 4015\n",
      "Data columns (total 14 columns):\n",
      " #   Column               Non-Null Count  Dtype  \n",
      "---  ------               --------------  -----  \n",
      " 0   FIPS                 3268 non-null   float64\n",
      " 1   Admin2               3272 non-null   object \n",
      " 2   Province_State       3837 non-null   object \n",
      " 3   Country_Region       4016 non-null   object \n",
      " 4   Last_Update          4016 non-null   object \n",
      " 5   Lat                  3925 non-null   float64\n",
      " 6   Long_                3925 non-null   float64\n",
      " 7   Confirmed            4016 non-null   int64  \n",
      " 8   Deaths               4016 non-null   int64  \n",
      " 9   Recovered            0 non-null      float64\n",
      " 10  Active               0 non-null      float64\n",
      " 11  Combined_Key         4016 non-null   object \n",
      " 12  Incident_Rate        3922 non-null   float64\n",
      " 13  Case_Fatality_Ratio  3974 non-null   float64\n",
      "dtypes: float64(7), int64(2), object(5)\n",
      "memory usage: 439.4+ KB\n"
     ]
    }
   ],
   "source": [
    "covid.info()"
   ]
  },
  {
   "cell_type": "code",
   "execution_count": 34,
   "metadata": {},
   "outputs": [
    {
     "data": {
      "text/plain": [
       "<bound method DataFrame.isnull of       FIPS Admin2 Province_State        Country_Region          Last_Update  \\\n",
       "0      NaN    NaN            NaN           Afghanistan  2023-02-04 04:21:01   \n",
       "1      NaN    NaN            NaN               Albania  2023-02-04 04:21:01   \n",
       "2      NaN    NaN            NaN               Algeria  2023-02-04 04:21:01   \n",
       "3      NaN    NaN            NaN               Andorra  2023-02-04 04:21:01   \n",
       "4      NaN    NaN            NaN                Angola  2023-02-04 04:21:01   \n",
       "...    ...    ...            ...                   ...                  ...   \n",
       "4011   NaN    NaN            NaN    West Bank and Gaza  2023-02-04 04:21:01   \n",
       "4012   NaN    NaN            NaN  Winter Olympics 2022  2023-02-04 04:21:01   \n",
       "4013   NaN    NaN            NaN                 Yemen  2023-02-04 04:21:01   \n",
       "4014   NaN    NaN            NaN                Zambia  2023-02-04 04:21:01   \n",
       "4015   NaN    NaN            NaN              Zimbabwe  2023-02-04 04:21:01   \n",
       "\n",
       "            Lat       Long_  Confirmed  Deaths  Recovered  Active  \\\n",
       "0     33.939110   67.709953     208669    7891        NaN     NaN   \n",
       "1     41.153300   20.168300     334203    3596        NaN     NaN   \n",
       "2     28.033900    1.659600     271394    6881        NaN     NaN   \n",
       "3     42.506300    1.521800      47850     165        NaN     NaN   \n",
       "4    -11.202700   17.873900     105184    1931        NaN     NaN   \n",
       "...         ...         ...        ...     ...        ...     ...   \n",
       "4011  31.952200   35.233200     703228    5708        NaN     NaN   \n",
       "4012  39.904200  116.407400        535       0        NaN     NaN   \n",
       "4013  15.552727   48.516388      11945    2159        NaN     NaN   \n",
       "4014 -13.133897   27.849332     341397    4049        NaN     NaN   \n",
       "4015 -19.015438   29.154857     262324    5658        NaN     NaN   \n",
       "\n",
       "              Combined_Key  Incident_Rate  Case_Fatality_Ratio  \n",
       "0              Afghanistan     536.033632             3.781587  \n",
       "1                  Albania   11613.141983             1.075993  \n",
       "2                  Algeria     618.899760             2.535428  \n",
       "3                  Andorra   61929.722384             0.344828  \n",
       "4                   Angola     320.036336             1.835831  \n",
       "...                    ...            ...                  ...  \n",
       "4011    West Bank and Gaza   13784.956961             0.811686  \n",
       "4012  Winter Olympics 2022            NaN             0.000000  \n",
       "4013                 Yemen      40.048994            18.074508  \n",
       "4014                Zambia    1857.037734             1.186009  \n",
       "4015              Zimbabwe    1764.955180             2.156875  \n",
       "\n",
       "[4016 rows x 14 columns]>"
      ]
     },
     "execution_count": 34,
     "metadata": {},
     "output_type": "execute_result"
    }
   ],
   "source": [
    "covid.isnull"
   ]
  },
  {
   "cell_type": "code",
   "execution_count": 40,
   "metadata": {},
   "outputs": [],
   "source": [
    "data_without_missing_columns=covid.dropna(axis=1)"
   ]
  },
  {
   "cell_type": "code",
   "execution_count": 41,
   "metadata": {},
   "outputs": [
    {
     "data": {
      "text/plain": [
       "(4016, 5)"
      ]
     },
     "execution_count": 41,
     "metadata": {},
     "output_type": "execute_result"
    }
   ],
   "source": [
    "data_without_missing_columns.shape"
   ]
  },
  {
   "attachments": {},
   "cell_type": "markdown",
   "metadata": {},
   "source": [
    "menghapus kolom yang tidak terpakai yaitu kolom FIPS dan kolom Admin2"
   ]
  },
  {
   "cell_type": "code",
   "execution_count": 43,
   "metadata": {},
   "outputs": [],
   "source": [
    "kolom_tidak_terpakai=['FIPS','Admin2']"
   ]
  },
  {
   "cell_type": "code",
   "execution_count": 45,
   "metadata": {},
   "outputs": [],
   "source": [
    "covid.drop(kolom_tidak_terpakai, inplace=True, axis=1)"
   ]
  },
  {
   "cell_type": "code",
   "execution_count": 46,
   "metadata": {},
   "outputs": [
    {
     "data": {
      "text/plain": [
       "(4016, 12)"
      ]
     },
     "execution_count": 46,
     "metadata": {},
     "output_type": "execute_result"
    }
   ],
   "source": [
    "covid.shape"
   ]
  },
  {
   "attachments": {},
   "cell_type": "markdown",
   "metadata": {},
   "source": [
    "mengubah nama kolom Province_state dengan Province dan Country_Region dengan Country"
   ]
  },
  {
   "cell_type": "code",
   "execution_count": 47,
   "metadata": {},
   "outputs": [
    {
     "data": {
      "text/html": [
       "<div>\n",
       "<style scoped>\n",
       "    .dataframe tbody tr th:only-of-type {\n",
       "        vertical-align: middle;\n",
       "    }\n",
       "\n",
       "    .dataframe tbody tr th {\n",
       "        vertical-align: top;\n",
       "    }\n",
       "\n",
       "    .dataframe thead th {\n",
       "        text-align: right;\n",
       "    }\n",
       "</style>\n",
       "<table border=\"1\" class=\"dataframe\">\n",
       "  <thead>\n",
       "    <tr style=\"text-align: right;\">\n",
       "      <th></th>\n",
       "      <th>Province</th>\n",
       "      <th>Country</th>\n",
       "      <th>Last_Update</th>\n",
       "      <th>Lat</th>\n",
       "      <th>Long_</th>\n",
       "      <th>Confirmed</th>\n",
       "      <th>Deaths</th>\n",
       "      <th>Recovered</th>\n",
       "      <th>Active</th>\n",
       "      <th>Combined_Key</th>\n",
       "      <th>Incident_Rate</th>\n",
       "      <th>Case_Fatality_Ratio</th>\n",
       "    </tr>\n",
       "  </thead>\n",
       "  <tbody>\n",
       "    <tr>\n",
       "      <th>0</th>\n",
       "      <td>NaN</td>\n",
       "      <td>Afghanistan</td>\n",
       "      <td>2023-02-04 04:21:01</td>\n",
       "      <td>33.93911</td>\n",
       "      <td>67.709953</td>\n",
       "      <td>208669</td>\n",
       "      <td>7891</td>\n",
       "      <td>NaN</td>\n",
       "      <td>NaN</td>\n",
       "      <td>Afghanistan</td>\n",
       "      <td>536.033632</td>\n",
       "      <td>3.781587</td>\n",
       "    </tr>\n",
       "    <tr>\n",
       "      <th>1</th>\n",
       "      <td>NaN</td>\n",
       "      <td>Albania</td>\n",
       "      <td>2023-02-04 04:21:01</td>\n",
       "      <td>41.15330</td>\n",
       "      <td>20.168300</td>\n",
       "      <td>334203</td>\n",
       "      <td>3596</td>\n",
       "      <td>NaN</td>\n",
       "      <td>NaN</td>\n",
       "      <td>Albania</td>\n",
       "      <td>11613.141983</td>\n",
       "      <td>1.075993</td>\n",
       "    </tr>\n",
       "    <tr>\n",
       "      <th>2</th>\n",
       "      <td>NaN</td>\n",
       "      <td>Algeria</td>\n",
       "      <td>2023-02-04 04:21:01</td>\n",
       "      <td>28.03390</td>\n",
       "      <td>1.659600</td>\n",
       "      <td>271394</td>\n",
       "      <td>6881</td>\n",
       "      <td>NaN</td>\n",
       "      <td>NaN</td>\n",
       "      <td>Algeria</td>\n",
       "      <td>618.899760</td>\n",
       "      <td>2.535428</td>\n",
       "    </tr>\n",
       "    <tr>\n",
       "      <th>3</th>\n",
       "      <td>NaN</td>\n",
       "      <td>Andorra</td>\n",
       "      <td>2023-02-04 04:21:01</td>\n",
       "      <td>42.50630</td>\n",
       "      <td>1.521800</td>\n",
       "      <td>47850</td>\n",
       "      <td>165</td>\n",
       "      <td>NaN</td>\n",
       "      <td>NaN</td>\n",
       "      <td>Andorra</td>\n",
       "      <td>61929.722384</td>\n",
       "      <td>0.344828</td>\n",
       "    </tr>\n",
       "    <tr>\n",
       "      <th>4</th>\n",
       "      <td>NaN</td>\n",
       "      <td>Angola</td>\n",
       "      <td>2023-02-04 04:21:01</td>\n",
       "      <td>-11.20270</td>\n",
       "      <td>17.873900</td>\n",
       "      <td>105184</td>\n",
       "      <td>1931</td>\n",
       "      <td>NaN</td>\n",
       "      <td>NaN</td>\n",
       "      <td>Angola</td>\n",
       "      <td>320.036336</td>\n",
       "      <td>1.835831</td>\n",
       "    </tr>\n",
       "  </tbody>\n",
       "</table>\n",
       "</div>"
      ],
      "text/plain": [
       "  Province      Country          Last_Update       Lat      Long_  Confirmed  \\\n",
       "0      NaN  Afghanistan  2023-02-04 04:21:01  33.93911  67.709953     208669   \n",
       "1      NaN      Albania  2023-02-04 04:21:01  41.15330  20.168300     334203   \n",
       "2      NaN      Algeria  2023-02-04 04:21:01  28.03390   1.659600     271394   \n",
       "3      NaN      Andorra  2023-02-04 04:21:01  42.50630   1.521800      47850   \n",
       "4      NaN       Angola  2023-02-04 04:21:01 -11.20270  17.873900     105184   \n",
       "\n",
       "   Deaths  Recovered  Active Combined_Key  Incident_Rate  Case_Fatality_Ratio  \n",
       "0    7891        NaN     NaN  Afghanistan     536.033632             3.781587  \n",
       "1    3596        NaN     NaN      Albania   11613.141983             1.075993  \n",
       "2    6881        NaN     NaN      Algeria     618.899760             2.535428  \n",
       "3     165        NaN     NaN      Andorra   61929.722384             0.344828  \n",
       "4    1931        NaN     NaN       Angola     320.036336             1.835831  "
      ]
     },
     "execution_count": 47,
     "metadata": {},
     "output_type": "execute_result"
    }
   ],
   "source": [
    "renamed_covid=covid.rename(\n",
    "    columns={\"Province_State\": \"Province\", \"Country_Region\": \"Country\"}\n",
    ")\n",
    "renamed_covid.head()"
   ]
  },
  {
   "attachments": {},
   "cell_type": "markdown",
   "metadata": {},
   "source": [
    "Grouping total kematian di seluruh negara"
   ]
  },
  {
   "cell_type": "code",
   "execution_count": 48,
   "metadata": {},
   "outputs": [],
   "source": [
    "kematian=covid[\"Deaths\"]"
   ]
  },
  {
   "cell_type": "code",
   "execution_count": 49,
   "metadata": {},
   "outputs": [
    {
     "data": {
      "text/plain": [
       "6840178"
      ]
     },
     "execution_count": 49,
     "metadata": {},
     "output_type": "execute_result"
    }
   ],
   "source": [
    "kematian.sum()"
   ]
  },
  {
   "attachments": {},
   "cell_type": "markdown",
   "metadata": {},
   "source": [
    "jadi total kematian dariseluruh negara adalah 6840178"
   ]
  },
  {
   "attachments": {},
   "cell_type": "markdown",
   "metadata": {},
   "source": [
    "Gruoping data Country_Region dengan Deaths untuk mengetahui berapa jumlah kematian di setiap negara"
   ]
  },
  {
   "cell_type": "code",
   "execution_count": 55,
   "metadata": {},
   "outputs": [
    {
     "data": {
      "text/plain": [
       "Country_Region\n",
       "Afghanistan             7891\n",
       "Albania                 3596\n",
       "Algeria                 6881\n",
       "Andorra                  165\n",
       "Angola                  1931\n",
       "                        ... \n",
       "West Bank and Gaza      5708\n",
       "Winter Olympics 2022       0\n",
       "Yemen                   2159\n",
       "Zambia                  4049\n",
       "Zimbabwe                5658\n",
       "Name: Deaths, Length: 201, dtype: int64"
      ]
     },
     "execution_count": 55,
     "metadata": {},
     "output_type": "execute_result"
    }
   ],
   "source": [
    "covid.groupby(\"Country_Region\", sort=False)[\"Deaths\"].sum()"
   ]
  },
  {
   "attachments": {},
   "cell_type": "markdown",
   "metadata": {},
   "source": [
    "Mengquery data kematian diatas 100000"
   ]
  },
  {
   "cell_type": "code",
   "execution_count": 61,
   "metadata": {},
   "outputs": [],
   "source": [
    "kematian_2=covid[covid[\"Deaths\"]>100000]"
   ]
  },
  {
   "cell_type": "code",
   "execution_count": 62,
   "metadata": {},
   "outputs": [
    {
     "data": {
      "text/html": [
       "<div>\n",
       "<style scoped>\n",
       "    .dataframe tbody tr th:only-of-type {\n",
       "        vertical-align: middle;\n",
       "    }\n",
       "\n",
       "    .dataframe tbody tr th {\n",
       "        vertical-align: top;\n",
       "    }\n",
       "\n",
       "    .dataframe thead th {\n",
       "        text-align: right;\n",
       "    }\n",
       "</style>\n",
       "<table border=\"1\" class=\"dataframe\">\n",
       "  <thead>\n",
       "    <tr style=\"text-align: right;\">\n",
       "      <th></th>\n",
       "      <th>Province_State</th>\n",
       "      <th>Country_Region</th>\n",
       "      <th>Last_Update</th>\n",
       "      <th>Lat</th>\n",
       "      <th>Long_</th>\n",
       "      <th>Confirmed</th>\n",
       "      <th>Deaths</th>\n",
       "      <th>Recovered</th>\n",
       "      <th>Active</th>\n",
       "      <th>Combined_Key</th>\n",
       "      <th>Incident_Rate</th>\n",
       "      <th>Case_Fatality_Ratio</th>\n",
       "    </tr>\n",
       "  </thead>\n",
       "  <tbody>\n",
       "    <tr>\n",
       "      <th>7</th>\n",
       "      <td>NaN</td>\n",
       "      <td>Argentina</td>\n",
       "      <td>2023-02-04 04:21:01</td>\n",
       "      <td>-38.416100</td>\n",
       "      <td>-63.616700</td>\n",
       "      <td>10037135</td>\n",
       "      <td>130421</td>\n",
       "      <td>NaN</td>\n",
       "      <td>NaN</td>\n",
       "      <td>Argentina</td>\n",
       "      <td>22208.125772</td>\n",
       "      <td>1.299385</td>\n",
       "    </tr>\n",
       "    <tr>\n",
       "      <th>66</th>\n",
       "      <td>Sao Paulo</td>\n",
       "      <td>Brazil</td>\n",
       "      <td>2023-02-04 04:21:01</td>\n",
       "      <td>-23.550500</td>\n",
       "      <td>-46.633300</td>\n",
       "      <td>6419637</td>\n",
       "      <td>178608</td>\n",
       "      <td>NaN</td>\n",
       "      <td>NaN</td>\n",
       "      <td>Sao Paulo, Brazil</td>\n",
       "      <td>13980.335263</td>\n",
       "      <td>2.782213</td>\n",
       "    </tr>\n",
       "    <tr>\n",
       "      <th>217</th>\n",
       "      <td>NaN</td>\n",
       "      <td>France</td>\n",
       "      <td>2023-02-04 04:21:01</td>\n",
       "      <td>46.227600</td>\n",
       "      <td>2.213700</td>\n",
       "      <td>38495010</td>\n",
       "      <td>160751</td>\n",
       "      <td>NaN</td>\n",
       "      <td>NaN</td>\n",
       "      <td>France</td>\n",
       "      <td>58974.933048</td>\n",
       "      <td>0.417589</td>\n",
       "    </tr>\n",
       "    <tr>\n",
       "      <th>270</th>\n",
       "      <td>Maharashtra</td>\n",
       "      <td>India</td>\n",
       "      <td>2023-02-04 04:21:01</td>\n",
       "      <td>19.449759</td>\n",
       "      <td>76.108221</td>\n",
       "      <td>8137181</td>\n",
       "      <td>148421</td>\n",
       "      <td>NaN</td>\n",
       "      <td>NaN</td>\n",
       "      <td>Maharashtra, India</td>\n",
       "      <td>6607.846314</td>\n",
       "      <td>1.823985</td>\n",
       "    </tr>\n",
       "    <tr>\n",
       "      <th>287</th>\n",
       "      <td>NaN</td>\n",
       "      <td>Indonesia</td>\n",
       "      <td>2023-02-04 04:21:01</td>\n",
       "      <td>-0.789300</td>\n",
       "      <td>113.921300</td>\n",
       "      <td>6730778</td>\n",
       "      <td>160826</td>\n",
       "      <td>NaN</td>\n",
       "      <td>NaN</td>\n",
       "      <td>Indonesia</td>\n",
       "      <td>2460.766633</td>\n",
       "      <td>2.389412</td>\n",
       "    </tr>\n",
       "    <tr>\n",
       "      <th>288</th>\n",
       "      <td>NaN</td>\n",
       "      <td>Iran</td>\n",
       "      <td>2023-02-04 04:21:01</td>\n",
       "      <td>32.427908</td>\n",
       "      <td>53.688046</td>\n",
       "      <td>7564614</td>\n",
       "      <td>144754</td>\n",
       "      <td>NaN</td>\n",
       "      <td>NaN</td>\n",
       "      <td>Iran</td>\n",
       "      <td>9006.248417</td>\n",
       "      <td>1.913568</td>\n",
       "    </tr>\n",
       "    <tr>\n",
       "      <th>514</th>\n",
       "      <td>NaN</td>\n",
       "      <td>Poland</td>\n",
       "      <td>2023-02-04 04:21:01</td>\n",
       "      <td>51.919400</td>\n",
       "      <td>19.145100</td>\n",
       "      <td>6382155</td>\n",
       "      <td>118743</td>\n",
       "      <td>NaN</td>\n",
       "      <td>NaN</td>\n",
       "      <td>Poland</td>\n",
       "      <td>16863.216661</td>\n",
       "      <td>1.860547</td>\n",
       "    </tr>\n",
       "    <tr>\n",
       "      <th>618</th>\n",
       "      <td>NaN</td>\n",
       "      <td>South Africa</td>\n",
       "      <td>2023-02-04 04:21:01</td>\n",
       "      <td>-30.559500</td>\n",
       "      <td>22.937500</td>\n",
       "      <td>4056701</td>\n",
       "      <td>102595</td>\n",
       "      <td>NaN</td>\n",
       "      <td>NaN</td>\n",
       "      <td>South Africa</td>\n",
       "      <td>6839.977413</td>\n",
       "      <td>2.529025</td>\n",
       "    </tr>\n",
       "    <tr>\n",
       "      <th>676</th>\n",
       "      <td>NaN</td>\n",
       "      <td>Turkey</td>\n",
       "      <td>2023-01-30 23:20:55</td>\n",
       "      <td>38.963700</td>\n",
       "      <td>35.243300</td>\n",
       "      <td>17042722</td>\n",
       "      <td>101492</td>\n",
       "      <td>NaN</td>\n",
       "      <td>NaN</td>\n",
       "      <td>Turkey</td>\n",
       "      <td>20207.387402</td>\n",
       "      <td>0.595515</td>\n",
       "    </tr>\n",
       "    <tr>\n",
       "      <th>3992</th>\n",
       "      <td>England</td>\n",
       "      <td>United Kingdom</td>\n",
       "      <td>2023-02-04 04:21:01</td>\n",
       "      <td>52.355500</td>\n",
       "      <td>-1.174300</td>\n",
       "      <td>20535061</td>\n",
       "      <td>183596</td>\n",
       "      <td>NaN</td>\n",
       "      <td>NaN</td>\n",
       "      <td>England, United Kingdom</td>\n",
       "      <td>36684.687694</td>\n",
       "      <td>0.894061</td>\n",
       "    </tr>\n",
       "  </tbody>\n",
       "</table>\n",
       "</div>"
      ],
      "text/plain": [
       "     Province_State  Country_Region          Last_Update        Lat  \\\n",
       "7               NaN       Argentina  2023-02-04 04:21:01 -38.416100   \n",
       "66        Sao Paulo          Brazil  2023-02-04 04:21:01 -23.550500   \n",
       "217             NaN          France  2023-02-04 04:21:01  46.227600   \n",
       "270     Maharashtra           India  2023-02-04 04:21:01  19.449759   \n",
       "287             NaN       Indonesia  2023-02-04 04:21:01  -0.789300   \n",
       "288             NaN            Iran  2023-02-04 04:21:01  32.427908   \n",
       "514             NaN          Poland  2023-02-04 04:21:01  51.919400   \n",
       "618             NaN    South Africa  2023-02-04 04:21:01 -30.559500   \n",
       "676             NaN          Turkey  2023-01-30 23:20:55  38.963700   \n",
       "3992        England  United Kingdom  2023-02-04 04:21:01  52.355500   \n",
       "\n",
       "           Long_  Confirmed  Deaths  Recovered  Active  \\\n",
       "7     -63.616700   10037135  130421        NaN     NaN   \n",
       "66    -46.633300    6419637  178608        NaN     NaN   \n",
       "217     2.213700   38495010  160751        NaN     NaN   \n",
       "270    76.108221    8137181  148421        NaN     NaN   \n",
       "287   113.921300    6730778  160826        NaN     NaN   \n",
       "288    53.688046    7564614  144754        NaN     NaN   \n",
       "514    19.145100    6382155  118743        NaN     NaN   \n",
       "618    22.937500    4056701  102595        NaN     NaN   \n",
       "676    35.243300   17042722  101492        NaN     NaN   \n",
       "3992   -1.174300   20535061  183596        NaN     NaN   \n",
       "\n",
       "                 Combined_Key  Incident_Rate  Case_Fatality_Ratio  \n",
       "7                   Argentina   22208.125772             1.299385  \n",
       "66          Sao Paulo, Brazil   13980.335263             2.782213  \n",
       "217                    France   58974.933048             0.417589  \n",
       "270        Maharashtra, India    6607.846314             1.823985  \n",
       "287                 Indonesia    2460.766633             2.389412  \n",
       "288                      Iran    9006.248417             1.913568  \n",
       "514                    Poland   16863.216661             1.860547  \n",
       "618              South Africa    6839.977413             2.529025  \n",
       "676                    Turkey   20207.387402             0.595515  \n",
       "3992  England, United Kingdom   36684.687694             0.894061  "
      ]
     },
     "execution_count": 62,
     "metadata": {},
     "output_type": "execute_result"
    }
   ],
   "source": [
    "kematian_2"
   ]
  },
  {
   "cell_type": "code",
   "execution_count": 63,
   "metadata": {},
   "outputs": [
    {
     "data": {
      "text/plain": [
       "(10, 12)"
      ]
     },
     "execution_count": 63,
     "metadata": {},
     "output_type": "execute_result"
    }
   ],
   "source": [
    "kematian_2.shape"
   ]
  },
  {
   "attachments": {},
   "cell_type": "markdown",
   "metadata": {},
   "source": [
    "visualisasi data Deaths Country_Region India dengan Incident_Rate "
   ]
  },
  {
   "cell_type": "code",
   "execution_count": 64,
   "metadata": {},
   "outputs": [],
   "source": [
    "%matplotlib inline"
   ]
  },
  {
   "cell_type": "code",
   "execution_count": 67,
   "metadata": {},
   "outputs": [
    {
     "data": {
      "text/plain": [
       "<AxesSubplot: xlabel='Deaths'>"
      ]
     },
     "execution_count": 67,
     "metadata": {},
     "output_type": "execute_result"
    },
    {
     "data": {
      "image/png": "[encoded data removed]",
      "text/plain": [
       "<Figure size 640x480 with 1 Axes>"
      ]
     },
     "metadata": {},
     "output_type": "display_data"
    }
   ],
   "source": [
    "covid[covid[\"Country_Region\"]==\"India\"].groupby(\"Deaths\")[\"Incident_Rate\"].sum().plot()"
   ]
  },
  {
   "cell_type": "code",
   "execution_count": 69,
   "metadata": {},
   "outputs": [
    {
     "data": {
      "text/plain": [
       "Deaths\n",
       "0             0.000000\n",
       "4          1882.499302\n",
       "52        17717.177048\n",
       "129        2577.954901\n",
       "231       10725.548600\n",
       "296        4259.330718\n",
       "499        6421.142454\n",
       "726       19283.046761\n",
       "782        1599.594612\n",
       "940        2590.871396\n",
       "1181       8576.893894\n",
       "1625       2874.824383\n",
       "1975      12431.749463\n",
       "2149       4526.021779\n",
       "4013      16335.508274\n",
       "4111       2137.854659\n",
       "4213       4196.294798\n",
       "4785       3523.796295\n",
       "5331       1146.744562\n",
       "7753       3994.761999\n",
       "8035       2095.372210\n",
       "9205       2883.424733\n",
       "9654       1623.525044\n",
       "10714      3746.472395\n",
       "10777      1235.884245\n",
       "11046      2000.327246\n",
       "12303       682.223962\n",
       "14146      4001.116855\n",
       "14733      4339.400305\n",
       "19289      2606.367666\n",
       "21532      2127.071404\n",
       "23637       894.630747\n",
       "26522     10728.461163\n",
       "38049      4617.950271\n",
       "40309      6028.482941\n",
       "71578     19131.418941\n",
       "148421     6607.846314\n",
       "Name: Incident_Rate, dtype: float64"
      ]
     },
     "execution_count": 69,
     "metadata": {},
     "output_type": "execute_result"
    }
   ],
   "source": [
    "covid[covid[\"Country_Region\"]==\"India\"].groupby(\"Deaths\")[\"Incident_Rate\"].sum()"
   ]
  },
  {
   "cell_type": "code",
   "execution_count": 73,
   "metadata": {},
   "outputs": [
    {
     "data": {
      "text/plain": [
       "<AxesSubplot: >"
      ]
     },
     "execution_count": 73,
     "metadata": {},
     "output_type": "execute_result"
    },
    {
     "data": {
      "image/png": "[encoded data removed]",
      "text/plain": [
       "<Figure size 640x480 with 1 Axes>"
      ]
     },
     "metadata": {},
     "output_type": "display_data"
    }
   ],
   "source": [
    "covid[\"Country_Region\"].value_counts().head().plot(kind=\"bar\")"
   ]
  },
  {
   "cell_type": "code",
   "execution_count": null,
   "metadata": {},
   "outputs": [],
   "source": []
  }
 ],
 "metadata": {
  "kernelspec": {
   "display_name": "Python 3",
   "language": "python",
   "name": "python3"
  },
  "language_info": {
   "codemirror_mode": {
    "name": "ipython",
    "version": 3
   },
   "file_extension": ".py",
   "mimetype": "text/x-python",
   "name": "python",
   "nbconvert_exporter": "python",
   "pygments_lexer": "ipython3",
   "version": "3.11.1"
  },
  "orig_nbformat": 4,
  "vscode": {
   "interpreter": {
    "hash": "0457ff9518d162b024a597d4f5523b538016db233ed7f16deedf5bdaff014eea"
   }
  }
 },
 "nbformat": 4,
 "nbformat_minor": 2
}
